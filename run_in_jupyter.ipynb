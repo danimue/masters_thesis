{
 "cells": [
  {
   "cell_type": "code",
   "execution_count": 6,
   "metadata": {},
   "outputs": [
    {
     "name": "stdout",
     "output_type": "stream",
     "text": [
      "Already in the correct directory. Proceeding with the notebook.\n"
     ]
    }
   ],
   "source": [
    "# Setup cell 1: clone the master's thesis GitHub repository if not already cloned\n",
    "\n",
    "import os\n",
    "\n",
    "repo_name = \"masters_thesis\"\n",
    "\n",
    "if os.path.basename(os.getcwd()) != repo_name:\n",
    "    # Check if the repository does not exist\n",
    "    if not os.path.exists(repo_name):\n",
    "        # Clone the repository if it doesn't exist\n",
    "        print(\"Cloning the GitHub repository...\")\n",
    "        !git clone https://github.com/danimue/masters_thesis.git\n",
    "        print(\"Successfully clonedGitHub repository.\")\n",
    "    else:\n",
    "        print(\"Repository directory exists, but it may not be a valid Git repository.\")\n",
    "\n",
    "    # Change directory to the repository\n",
    "    print(\"Changing directory to the repository...\")\n",
    "    %cd {repo_name}\n",
    "    print(\"Current directory is now:\", os.getcwd())\n",
    "else:\n",
    "    print(\"Already in the correct directory. Proceeding with the notebook.\")"
   ]
  },
  {
   "cell_type": "code",
   "execution_count": 7,
   "metadata": {},
   "outputs": [],
   "source": [
    "# use this to properly set everything up\n",
    "# To-Do: check if this actually works\n",
    "# !pip install -r requirements.txt\n"
   ]
  },
  {
   "cell_type": "code",
   "execution_count": 4,
   "metadata": {},
   "outputs": [
    {
     "name": "stdout",
     "output_type": "stream",
     "text": [
      "Current working directory: /home/daniel-mueller92/Projects/masters_thesis\n",
      "Script location: /home/daniel-mueller92/Projects/masters_thesis/utils.py\n",
      "ARC data complete.\n"
     ]
    }
   ],
   "source": [
    "# this could be obsolete if the previous cell works properly!\n",
    "!pip install vllm triton\n",
    "\n",
    "from IPython.display import clear_output\n",
    "clear_output(wait=False)"
   ]
  },
  {
   "cell_type": "code",
   "execution_count": 8,
   "metadata": {},
   "outputs": [
    {
     "name": "stderr",
     "output_type": "stream",
     "text": [
      "/home/daniel-mueller92/Projects/masters_thesis/venv/lib/python3.12/site-packages/tqdm/auto.py:21: TqdmWarning: IProgress not found. Please update jupyter and ipywidgets. See https://ipywidgets.readthedocs.io/en/stable/user_install.html\n",
      "  from .autonotebook import tqdm as notebook_tqdm\n"
     ]
    },
    {
     "name": "stdout",
     "output_type": "stream",
     "text": [
      "INFO 02-03 21:45:19 __init__.py:187] No platform detected, vLLM is running on UnspecifiedPlatform\n"
     ]
    },
    {
     "name": "stderr",
     "output_type": "stream",
     "text": [
      "2025-02-03 21:45:20,186\tINFO util.py:154 -- Missing packages: ['ipywidgets']. Run `pip install -U ipywidgets`, then restart the notebook server for rich notebook output.\n"
     ]
    }
   ],
   "source": [
    "from transformers import AutoTokenizer\n",
    "from vllm import LLM, SamplingParams\n",
    "\n",
    "sampling_params = SamplingParams(temperature=0.8, top_p=0.95, max_tokens=8000)\n",
    "tokenizer = AutoTokenizer.from_pretrained(\"Qwen/Qwen2.5-7B-Instruct\")\n",
    "\n",
    "#llm = LLM(model=\"Qwen/Qwen2.5-7B-Instruct-AWQ\", quantization=\"awq\")\n",
    "\n",
    "# Figure out error handling here\n",
    "# RuntimeError: Failed to infer device type\n",
    "# This seems to happen if there is no GPU connected in Google Colab\n",
    "# maybe get the pro subscription finally..."
   ]
  },
  {
   "cell_type": "code",
   "execution_count": null,
   "metadata": {},
   "outputs": [],
   "source": [
    "from utils import check_dataset, load_files_from_json, json_to_string, create_prompt"
   ]
  },
  {
   "cell_type": "code",
   "execution_count": 9,
   "metadata": {},
   "outputs": [],
   "source": [
    "def transform(grid):\n",
    "    max_val = -1\n",
    "    min_val = float('inf')\n",
    "    max_pos = None\n",
    "    min_pos = None\n",
    "    for i in range(len(grid)):\n",
    "        for j in range(len(grid[i])):\n",
    "            if grid[i][j] != 0:\n",
    "                if grid[i][j] > max_val:\n",
    "                    max_val = grid[i][j]\n",
    "                    max_pos = (i, j)\n",
    "                if grid[i][j] < min_val:\n",
    "                    min_val = grid[i][j]\n",
    "                    min_pos = (i, j)\n",
    "    \n",
    "    # Create a new grid with the transformed values\n",
    "    new_grid = [[0 for _ in range(len(grid[0]))] for _ in range(len(grid))]\n",
    "    \n",
    "    if max_pos:\n",
    "        new_grid[0][0] = max_val\n",
    "    if min_pos:\n",
    "        new_grid[0][-1] = min_val\n",
    "    \n",
    "    return new_grid"
   ]
  },
  {
   "cell_type": "code",
   "execution_count": 10,
   "metadata": {},
   "outputs": [],
   "source": [
    "input = [\n",
    "[0, 0, 0, 0],\n",
    "[0, 3, 4, 0],\n",
    "[0, 7, 6, 0],\n",
    "[0, 0, 0, 0]]"
   ]
  },
  {
   "cell_type": "code",
   "execution_count": 11,
   "metadata": {},
   "outputs": [
    {
     "name": "stdout",
     "output_type": "stream",
     "text": [
      "[[7, 0, 0, 3], [0, 0, 0, 0], [0, 0, 0, 0], [0, 0, 0, 0]]\n"
     ]
    }
   ],
   "source": [
    "print(transform(input))"
   ]
  }
 ],
 "metadata": {
  "kernelspec": {
   "display_name": "venv",
   "language": "python",
   "name": "python3"
  },
  "language_info": {
   "codemirror_mode": {
    "name": "ipython",
    "version": 3
   },
   "file_extension": ".py",
   "mimetype": "text/x-python",
   "name": "python",
   "nbconvert_exporter": "python",
   "pygments_lexer": "ipython3",
   "version": "3.12.8"
  }
 },
 "nbformat": 4,
 "nbformat_minor": 2
}
