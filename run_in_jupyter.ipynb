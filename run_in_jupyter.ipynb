{
 "cells": [
  {
   "cell_type": "code",
   "execution_count": 6,
   "metadata": {},
   "outputs": [
    {
     "name": "stdout",
     "output_type": "stream",
     "text": [
      "Already in the correct directory. Proceeding with the notebook.\n"
     ]
    }
   ],
   "source": [
    "# Setup cell 1: clone the master's thesis GitHub repository if not already cloned\n",
    "\n",
    "import os\n",
    "\n",
    "repo_name = \"masters_thesis\"\n",
    "\n",
    "if os.path.basename(os.getcwd()) != repo_name:\n",
    "    # Check if the repository does not exist\n",
    "    if not os.path.exists(repo_name):\n",
    "        # Clone the repository if it doesn't exist\n",
    "        print(\"Cloning the GitHub repository...\")\n",
    "        !git clone https://github.com/danimue/masters_thesis.git\n",
    "        print(\"Successfully clonedGitHub repository.\")\n",
    "    else:\n",
    "        print(\"Repository directory exists, but it may not be a valid Git repository.\")\n",
    "\n",
    "    # Change directory to the repository\n",
    "    print(\"Changing directory to the repository...\")\n",
    "    %cd {repo_name}\n",
    "    print(\"Current directory is now:\", os.getcwd())\n",
    "else:\n",
    "    print(\"Already in the correct directory. Proceeding with the notebook.\")"
   ]
  },
  {
   "cell_type": "code",
   "execution_count": null,
   "metadata": {},
   "outputs": [],
   "source": [
    "# Setup cell 2: only run to update changes from GitHub\n",
    "\n",
    "repo_name = \"masters_thesis\"\n",
    "\n",
    "if os.path.basename(os.getcwd()) == repo_name:\n",
    "    print(\"Fetching latest changes from GitHub...\")\n",
    "    !git pull origin main\n",
    "    print(\"Repository is now up to date.\")\n",
    "else:\n",
    "    print(\"Did nothing.\")"
   ]
  },
  {
   "cell_type": "code",
   "execution_count": 7,
   "metadata": {},
   "outputs": [],
   "source": [
    "# use this to properly set everything up\n",
    "# To-Do: check if this actually works\n",
    "# !pip install -r requirements.txt"
   ]
  },
  {
   "cell_type": "code",
   "execution_count": 4,
   "metadata": {},
   "outputs": [
    {
     "name": "stdout",
     "output_type": "stream",
     "text": [
      "Current working directory: /home/daniel-mueller92/Projects/masters_thesis\n",
      "Script location: /home/daniel-mueller92/Projects/masters_thesis/utils.py\n",
      "ARC data complete.\n"
     ]
    }
   ],
   "source": [
    "# this could be obsolete if the previous cell works properly!\n",
    "!pip install vllm triton\n",
    "\n",
    "from IPython.display import clear_output\n",
    "clear_output(wait=False)"
   ]
  },
  {
   "cell_type": "code",
   "execution_count": 8,
   "metadata": {},
   "outputs": [
    {
     "name": "stderr",
     "output_type": "stream",
     "text": [
      "/home/daniel-mueller92/Projects/masters_thesis/venv/lib/python3.12/site-packages/tqdm/auto.py:21: TqdmWarning: IProgress not found. Please update jupyter and ipywidgets. See https://ipywidgets.readthedocs.io/en/stable/user_install.html\n",
      "  from .autonotebook import tqdm as notebook_tqdm\n"
     ]
    },
    {
     "name": "stdout",
     "output_type": "stream",
     "text": [
      "INFO 02-03 21:45:19 __init__.py:187] No platform detected, vLLM is running on UnspecifiedPlatform\n"
     ]
    },
    {
     "name": "stderr",
     "output_type": "stream",
     "text": [
      "2025-02-03 21:45:20,186\tINFO util.py:154 -- Missing packages: ['ipywidgets']. Run `pip install -U ipywidgets`, then restart the notebook server for rich notebook output.\n"
     ]
    }
   ],
   "source": [
    "from transformers import AutoTokenizer\n",
    "from vllm import LLM, SamplingParams\n",
    "\n",
    "sampling_params = SamplingParams(temperature=0.8, top_p=0.95, max_tokens=8000)\n",
    "tokenizer = AutoTokenizer.from_pretrained(\"Qwen/Qwen2.5-7B-Instruct\")\n",
    "\n",
    "llm = LLM(model=\"Qwen/Qwen2.5-7B-Instruct-AWQ\", quantization=\"awq\")\n",
    "\n",
    "# Figure out error handling here\n",
    "# RuntimeError: Failed to infer device type\n",
    "# This seems to happen if there is no GPU connected in Google Colab\n",
    "# maybe get the pro subscription finally..."
   ]
  },
  {
   "cell_type": "code",
   "execution_count": 1,
   "metadata": {},
   "outputs": [],
   "source": [
    "from utils import check_dataset, load_files_from_json, json_to_string, create_prompt"
   ]
  },
  {
   "cell_type": "code",
   "execution_count": 2,
   "metadata": {},
   "outputs": [
    {
     "name": "stdout",
     "output_type": "stream",
     "text": [
      "Current working directory: /home/daniel-mueller92/Projects/masters_thesis\n",
      "Script location: /home/daniel-mueller92/Projects/masters_thesis/utils.py\n",
      "ARC data complete.\n",
      "Here is are some examples of the transformation from `input` to `output`: \n",
      "\n",
      "Training Examples\n",
      "Example 1: Input\n",
      "[\n",
      "[3, 1, 2],\n",
      "[3, 1, 2],\n",
      "[3, 1, 2]]\n",
      "\n",
      "Example 1: Output\n",
      "[\n",
      "[4, 5, 6],\n",
      "[4, 5, 6],\n",
      "[4, 5, 6]]\n",
      "\n",
      "Example 2: Input\n",
      "[\n",
      "[2, 3, 8],\n",
      "[2, 3, 8],\n",
      "[2, 3, 8]]\n",
      "\n",
      "Example 2: Output\n",
      "[\n",
      "[6, 4, 9],\n",
      "[6, 4, 9],\n",
      "[6, 4, 9]]\n",
      "\n",
      "Example 3: Input\n",
      "[\n",
      "[5, 8, 6],\n",
      "[5, 8, 6],\n",
      "[5, 8, 6]]\n",
      "\n",
      "Example 3: Output\n",
      "[\n",
      "[1, 9, 2],\n",
      "[1, 9, 2],\n",
      "[1, 9, 2]]\n",
      "\n",
      "Example 4: Input\n",
      "[\n",
      "[9, 4, 2],\n",
      "[9, 4, 2],\n",
      "[9, 4, 2]]\n",
      "\n",
      "Example 4: Output\n",
      "[\n",
      "[8, 3, 6],\n",
      "[8, 3, 6],\n",
      "[8, 3, 6]]\n",
      "\n",
      "\n",
      "\n",
      "You'll need to carefully reason in order to determine the transformation rule. Start your response by carefully reasoning in <reasoning></reasoning> tags. Then, implement the transformation in code.\n",
      "\n",
      "For your reasoning, please pay close attention to where the objects in the grid are in the input and where they are moved in the output example. You can consider a space with a 0 as an empty space, as 0 represents the color black.\n",
      "\n",
      "Once you have finished your first round of reasoning, please start a second round of reasoning in <reasoning></reasoning> tags. In this round, consider each row of the input and output array. According to your transformation logic, would they be the same? If not, what went wrong and how can it be fixed?\n",
      "If you made any mistakes, correct them. If you are unsure that you have found the correct transformation rule, you may start as many rounds of <reasoning></reasoning> as you deem necessary.\n",
      "\n",
      "After your reasoning is completed write code in triple backticks (```python and then ```). You should write a function called `transform` which takes a single argument, the input grid as `list[list[int]]`, and returns the transformed grid (also as `list[list[int]]`). You should make sure that you implement a version of the transformation which works in general (it shouldn't just work for the additional input).\n",
      "\n",
      "Don't write tests in your python code, just output the `transform` function (it will be tested later).\n"
     ]
    }
   ],
   "source": [
    "check_dataset()\n",
    "train, eval = load_files_from_json()\n",
    "prompt = create_prompt(\"0d3d703e\", train, eval)\n",
    "print(prompt)"
   ]
  },
  {
   "cell_type": "code",
   "execution_count": 9,
   "metadata": {},
   "outputs": [
    {
     "name": "stdout",
     "output_type": "stream",
     "text": [
      "The transformation rule appears to be as follows:\n",
      "\n",
      "1. **Color Change**: Each gray bar in the input is transformed into a colored bar in the output. The colors are assigned in a specific order: red, green, blue, and yellow.\n",
      "\n",
      "2. **Order of Colors**: The colors are assigned in a sequential manner based on the position of the bars from left to right. The first bar becomes red, the second becomes green, the third becomes blue, and the fourth becomes yellow. If there are more than four bars, the sequence repeats.\n",
      "\n",
      "3. **Height Preservation**: The height of each bar is preserved from the input to the output.\n",
      "\n",
      "Let's break down the examples:\n",
      "\n",
      "- **Example 1**:\n",
      "  - Input: Four bars of different heights.\n",
      "  - Output: The first bar is red, the second is green, the third is blue, and the fourth is yellow, with their respective heights preserved.\n",
      "\n",
      "- **Example 2**:\n",
      "  - Input: Four bars of different heights.\n",
      "  - Output: The first bar is yellow, the second is red, the third is green, and the fourth is blue, with their respective heights preserved.\n",
      "\n",
      "In both examples, the colors are assigned in the order red, green, blue, yellow, and the heights of the bars are maintained. The sequence of colors repeats if there are more than four bars."
     ]
    }
   ],
   "source": [
    "import base64\n",
    "from openai import OpenAI\n",
    "\n",
    "client = OpenAI(\n",
    "    base_url=\"https://openrouter.ai/api/v1\",\n",
    "    api_key=\"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\",\n",
    ")\n",
    "\n",
    "# Function to encode the image\n",
    "def encode_image(image_path):\n",
    "    with open(image_path, \"rb\") as image_file:\n",
    "        return base64.b64encode(image_file.read()).decode(\"utf-8\")\n",
    "    \n",
    "# Path to your image\n",
    "image_path = \"/home/daniel-mueller92/Pictures/Screenshots/Screenshot From 2025-02-17 15-41-25.png\"\n",
    "\n",
    "# Getting the Base64 string\n",
    "base64_image = encode_image(image_path)\n",
    "\n",
    "# completion = instead of stream\n",
    "stream = client.chat.completions.create(\n",
    "    extra_body={},\n",
    "    model=\"qwen/qwen2.5-vl-72b-instruct:free\",\n",
    "    messages=[\n",
    "        {\n",
    "            \"role\": \"user\",\n",
    "            \"content\": [\n",
    "                {\"type\": \"text\", \"text\": \"This image shows transformations from input to output. Based on the examples you see, can you deduce what the underlying transformation rule is?\"},\n",
    "                {\n",
    "                    \"type\": \"image_url\",\n",
    "                    #\"image_url\": {\"url\": \"https://upload.wikimedia.org/wikipedia/commons/thumb/d/dd/Gfp-wisconsin-madison-the-nature-boardwalk.jpg/2560px-Gfp-wisconsin-madison-the-nature-boardwalk.jpg\"}\n",
    "                    \"image_url\": {\"url\": f\"data:image/jpeg;base64,{base64_image}\"},\n",
    "                }\n",
    "            ]\n",
    "        }\n",
    "    ],\n",
    "    stream=True,\n",
    ")\n",
    "\n",
    "for chunk in stream:\n",
    "    if chunk.choices[0].delta.content is not None:\n",
    "        print(chunk.choices[0].delta.content, end=\"\")\n",
    "\n",
    "#print(completion.choices[0].message.content)"
   ]
  },
  {
   "cell_type": "code",
   "execution_count": null,
   "metadata": {},
   "outputs": [],
   "source": []
  },
  {
   "cell_type": "code",
   "execution_count": null,
   "metadata": {},
   "outputs": [],
   "source": []
  }
 ],
 "metadata": {
  "kernelspec": {
   "display_name": "venv",
   "language": "python",
   "name": "python3"
  },
  "language_info": {
   "codemirror_mode": {
    "name": "ipython",
    "version": 3
   },
   "file_extension": ".py",
   "mimetype": "text/x-python",
   "name": "python",
   "nbconvert_exporter": "python",
   "pygments_lexer": "ipython3",
   "version": "3.12.8"
  }
 },
 "nbformat": 4,
 "nbformat_minor": 2
}
