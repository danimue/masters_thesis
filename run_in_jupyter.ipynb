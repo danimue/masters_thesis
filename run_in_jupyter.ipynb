{
 "cells": [
  {
   "cell_type": "code",
   "execution_count": 6,
   "metadata": {},
   "outputs": [
    {
     "name": "stdout",
     "output_type": "stream",
     "text": [
      "Already in the correct directory. Proceeding with the notebook.\n"
     ]
    }
   ],
   "source": [
    "# Setup cell 1: clone the master's thesis GitHub repository if not already cloned\n",
    "\n",
    "import os\n",
    "\n",
    "repo_name = \"masters_thesis\"\n",
    "\n",
    "if os.path.basename(os.getcwd()) != repo_name:\n",
    "    # Check if the repository does not exist\n",
    "    if not os.path.exists(repo_name):\n",
    "        # Clone the repository if it doesn't exist\n",
    "        print(\"Cloning the GitHub repository...\")\n",
    "        !git clone https://github.com/danimue/masters_thesis.git\n",
    "        print(\"Successfully clonedGitHub repository.\")\n",
    "    else:\n",
    "        print(\"Repository directory exists, but it may not be a valid Git repository.\")\n",
    "\n",
    "    # Change directory to the repository\n",
    "    print(\"Changing directory to the repository...\")\n",
    "    %cd {repo_name}\n",
    "    print(\"Current directory is now:\", os.getcwd())\n",
    "else:\n",
    "    print(\"Already in the correct directory. Proceeding with the notebook.\")"
   ]
  },
  {
   "cell_type": "code",
   "execution_count": null,
   "metadata": {},
   "outputs": [],
   "source": [
    "# Setup cell 2: only run to update changes from GitHub\n",
    "\n",
    "repo_name = \"masters_thesis\"\n",
    "\n",
    "if os.path.basename(os.getcwd()) == repo_name:\n",
    "    print(\"Fetching latest changes from GitHub...\")\n",
    "    !git pull origin main\n",
    "    print(\"Repository is now up to date.\")\n",
    "else:\n",
    "    print(\"Did nothing.\")"
   ]
  },
  {
   "cell_type": "code",
   "execution_count": 7,
   "metadata": {},
   "outputs": [],
   "source": [
    "# use this to properly set everything up\n",
    "# To-Do: check if this actually works\n",
    "# !pip install -r requirements.txt"
   ]
  },
  {
   "cell_type": "code",
   "execution_count": 4,
   "metadata": {},
   "outputs": [
    {
     "name": "stdout",
     "output_type": "stream",
     "text": [
      "Current working directory: /home/daniel-mueller92/Projects/masters_thesis\n",
      "Script location: /home/daniel-mueller92/Projects/masters_thesis/utils.py\n",
      "ARC data complete.\n"
     ]
    }
   ],
   "source": [
    "# this could be obsolete if the previous cell works properly!\n",
    "!pip install vllm triton\n",
    "\n",
    "from IPython.display import clear_output\n",
    "clear_output(wait=False)"
   ]
  },
  {
   "cell_type": "code",
   "execution_count": 8,
   "metadata": {},
   "outputs": [
    {
     "name": "stderr",
     "output_type": "stream",
     "text": [
      "/home/daniel-mueller92/Projects/masters_thesis/venv/lib/python3.12/site-packages/tqdm/auto.py:21: TqdmWarning: IProgress not found. Please update jupyter and ipywidgets. See https://ipywidgets.readthedocs.io/en/stable/user_install.html\n",
      "  from .autonotebook import tqdm as notebook_tqdm\n"
     ]
    },
    {
     "name": "stdout",
     "output_type": "stream",
     "text": [
      "INFO 02-03 21:45:19 __init__.py:187] No platform detected, vLLM is running on UnspecifiedPlatform\n"
     ]
    },
    {
     "name": "stderr",
     "output_type": "stream",
     "text": [
      "2025-02-03 21:45:20,186\tINFO util.py:154 -- Missing packages: ['ipywidgets']. Run `pip install -U ipywidgets`, then restart the notebook server for rich notebook output.\n"
     ]
    }
   ],
   "source": [
    "from transformers import AutoTokenizer\n",
    "from vllm import LLM, SamplingParams\n",
    "\n",
    "sampling_params = SamplingParams(temperature=0.8, top_p=0.95, max_tokens=8000)\n",
    "tokenizer = AutoTokenizer.from_pretrained(\"Qwen/Qwen2.5-7B-Instruct\")\n",
    "\n",
    "llm = LLM(model=\"Qwen/Qwen2.5-7B-Instruct-AWQ\", quantization=\"awq\")\n",
    "\n",
    "# Figure out error handling here\n",
    "# RuntimeError: Failed to infer device type\n",
    "# This seems to happen if there is no GPU connected in Google Colab\n",
    "# maybe get the pro subscription finally..."
   ]
  },
  {
   "cell_type": "code",
   "execution_count": 1,
   "metadata": {},
   "outputs": [],
   "source": [
    "from utils import check_dataset, load_files_from_json, json_to_string, create_prompt"
   ]
  },
  {
   "cell_type": "code",
   "execution_count": 2,
   "metadata": {},
   "outputs": [
    {
     "name": "stdout",
     "output_type": "stream",
     "text": [
      "Current working directory: /home/daniel-mueller92/Projects/masters_thesis\n",
      "Script location: /home/daniel-mueller92/Projects/masters_thesis/utils.py\n",
      "ARC data complete.\n",
      "Here is are some examples of the transformation from `input` to `output`: \n",
      "\n",
      "Training Examples\n",
      "Example 1: Input\n",
      "[\n",
      "[3, 1, 2],\n",
      "[3, 1, 2],\n",
      "[3, 1, 2]]\n",
      "\n",
      "Example 1: Output\n",
      "[\n",
      "[4, 5, 6],\n",
      "[4, 5, 6],\n",
      "[4, 5, 6]]\n",
      "\n",
      "Example 2: Input\n",
      "[\n",
      "[2, 3, 8],\n",
      "[2, 3, 8],\n",
      "[2, 3, 8]]\n",
      "\n",
      "Example 2: Output\n",
      "[\n",
      "[6, 4, 9],\n",
      "[6, 4, 9],\n",
      "[6, 4, 9]]\n",
      "\n",
      "Example 3: Input\n",
      "[\n",
      "[5, 8, 6],\n",
      "[5, 8, 6],\n",
      "[5, 8, 6]]\n",
      "\n",
      "Example 3: Output\n",
      "[\n",
      "[1, 9, 2],\n",
      "[1, 9, 2],\n",
      "[1, 9, 2]]\n",
      "\n",
      "Example 4: Input\n",
      "[\n",
      "[9, 4, 2],\n",
      "[9, 4, 2],\n",
      "[9, 4, 2]]\n",
      "\n",
      "Example 4: Output\n",
      "[\n",
      "[8, 3, 6],\n",
      "[8, 3, 6],\n",
      "[8, 3, 6]]\n",
      "\n",
      "\n",
      "\n",
      "You'll need to carefully reason in order to determine the transformation rule. Start your response by carefully reasoning in <reasoning></reasoning> tags. Then, implement the transformation in code.\n",
      "\n",
      "For your reasoning, please pay close attention to where the objects in the grid are in the input and where they are moved in the output example. You can consider a space with a 0 as an empty space, as 0 represents the color black.\n",
      "\n",
      "Once you have finished your first round of reasoning, please start a second round of reasoning in <reasoning></reasoning> tags. In this round, consider each row of the input and output array. According to your transformation logic, would they be the same? If not, what went wrong and how can it be fixed?\n",
      "If you made any mistakes, correct them. If you are unsure that you have found the correct transformation rule, you may start as many rounds of <reasoning></reasoning> as you deem necessary.\n",
      "\n",
      "After your reasoning is completed write code in triple backticks (```python and then ```). You should write a function called `transform` which takes a single argument, the input grid as `list[list[int]]`, and returns the transformed grid (also as `list[list[int]]`). You should make sure that you implement a version of the transformation which works in general (it shouldn't just work for the additional input).\n",
      "\n",
      "Don't write tests in your python code, just output the `transform` function (it will be tested later).\n"
     ]
    }
   ],
   "source": [
    "check_dataset()\n",
    "train, eval = load_files_from_json()\n",
    "prompt = create_prompt(\"0d3d703e\", train, eval)\n",
    "print(prompt)"
   ]
  }
 ],
 "metadata": {
  "kernelspec": {
   "display_name": "venv",
   "language": "python",
   "name": "python3"
  },
  "language_info": {
   "codemirror_mode": {
    "name": "ipython",
    "version": 3
   },
   "file_extension": ".py",
   "mimetype": "text/x-python",
   "name": "python",
   "nbconvert_exporter": "python",
   "pygments_lexer": "ipython3",
   "version": "3.12.8"
  }
 },
 "nbformat": 4,
 "nbformat_minor": 2
}
