{
 "cells": [
  {
   "cell_type": "code",
   "execution_count": null,
   "metadata": {},
   "outputs": [],
   "source": [
    "# Setup cell 1: clone the master's thesis github repository in case it does not exit\n",
    "import os\n",
    "\n",
    "repo_name = \"masters_thesis\"\n",
    "parent_dir = os.path.basename(os.path.abspath(\"..\"))\n",
    "\n",
    "if not os.path.exists(repo_name) and repo_name not in parent_dir:\n",
    "    !git clone https://github.com/danimue/masters_thesis.git\n",
    "    %cd masters_thesis\n",
    "    print(\"Sucessfully cloned Github repo\")\n",
    "    print(\"Changed directory to /masters_thesis\")\n",
    "else:\n",
    "    print(\"Github repo already exists. Proceed with notebook execution.\")"
   ]
  },
  {
   "cell_type": "code",
   "execution_count": 4,
   "metadata": {},
   "outputs": [
    {
     "name": "stdout",
     "output_type": "stream",
     "text": [
      "Current working directory: /home/daniel-mueller92/Projects/masters_thesis\n",
      "Script location: /home/daniel-mueller92/Projects/masters_thesis/utils.py\n",
      "ARC data complete.\n"
     ]
    }
   ],
   "source": [
    "!pip install vllm triton\n",
    "\n",
    "from IPython.display import clear_output\n",
    "clear_output(wait=False)"
   ]
  },
  {
   "cell_type": "code",
   "execution_count": null,
   "metadata": {},
   "outputs": [],
   "source": [
    "from utils import check_dataset, load_files_from_json, json_to_string, create_prompt"
   ]
  },
  {
   "cell_type": "code",
   "execution_count": null,
   "metadata": {},
   "outputs": [],
   "source": [
    "from transformers import AutoTokenizer\n",
    "from vllm import LLM, SamplingParams\n",
    "\n",
    "sampling_params = SamplingParams(temperature=0.8, top_p=0.95, max_tokens=8000)\n",
    "tokenizer = AutoTokenizer.from_pretrained(\"Qwen/Qwen2.5-7B-Instruct\")\n",
    "\n",
    "llm = LLM(model=\"Qwen/Qwen2.5-7B-Instruct-AWQ\", quantization=\"awq\")"
   ]
  }
 ],
 "metadata": {
  "kernelspec": {
   "display_name": "venv",
   "language": "python",
   "name": "python3"
  },
  "language_info": {
   "codemirror_mode": {
    "name": "ipython",
    "version": 3
   },
   "file_extension": ".py",
   "mimetype": "text/x-python",
   "name": "python",
   "nbconvert_exporter": "python",
   "pygments_lexer": "ipython3",
   "version": "3.12.8"
  }
 },
 "nbformat": 4,
 "nbformat_minor": 2
}
